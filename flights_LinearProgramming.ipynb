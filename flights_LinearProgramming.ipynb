{
 "cells": [
  {
   "cell_type": "code",
   "execution_count": 42,
   "id": "0d90397e",
   "metadata": {},
   "outputs": [],
   "source": [
    "import pandas as pd\n",
    "import networkx as nx\n",
    "import numpy as np\n",
    "import matplotlib.pyplot as plt\n",
    "import seaborn as sns\n",
    "\n",
    "%matplotlib inline"
   ]
  },
  {
   "cell_type": "code",
   "execution_count": 4,
   "id": "69f8f4ae",
   "metadata": {},
   "outputs": [
    {
     "name": "stdout",
     "output_type": "stream",
     "text": [
      "(3606803, 15)\n"
     ]
    },
    {
     "data": {
      "text/html": [
       "<div>\n",
       "<style scoped>\n",
       "    .dataframe tbody tr th:only-of-type {\n",
       "        vertical-align: middle;\n",
       "    }\n",
       "\n",
       "    .dataframe tbody tr th {\n",
       "        vertical-align: top;\n",
       "    }\n",
       "\n",
       "    .dataframe thead th {\n",
       "        text-align: right;\n",
       "    }\n",
       "</style>\n",
       "<table border=\"1\" class=\"dataframe\">\n",
       "  <thead>\n",
       "    <tr style=\"text-align: right;\">\n",
       "      <th></th>\n",
       "      <th>Origin_airport</th>\n",
       "      <th>Destination_airport</th>\n",
       "      <th>Origin_city</th>\n",
       "      <th>Destination_city</th>\n",
       "      <th>Passengers</th>\n",
       "      <th>Seats</th>\n",
       "      <th>Flights</th>\n",
       "      <th>Distance</th>\n",
       "      <th>Fly_date</th>\n",
       "      <th>Origin_population</th>\n",
       "      <th>Destination_population</th>\n",
       "      <th>Org_airport_lat</th>\n",
       "      <th>Org_airport_long</th>\n",
       "      <th>Dest_airport_lat</th>\n",
       "      <th>Dest_airport_long</th>\n",
       "    </tr>\n",
       "  </thead>\n",
       "  <tbody>\n",
       "    <tr>\n",
       "      <th>0</th>\n",
       "      <td>MHK</td>\n",
       "      <td>AMW</td>\n",
       "      <td>Manhattan, KS</td>\n",
       "      <td>Ames, IA</td>\n",
       "      <td>21</td>\n",
       "      <td>30</td>\n",
       "      <td>1</td>\n",
       "      <td>254</td>\n",
       "      <td>2008-10-01</td>\n",
       "      <td>122049</td>\n",
       "      <td>86219</td>\n",
       "      <td>39.140999</td>\n",
       "      <td>-96.670799</td>\n",
       "      <td>NaN</td>\n",
       "      <td>NaN</td>\n",
       "    </tr>\n",
       "    <tr>\n",
       "      <th>1</th>\n",
       "      <td>EUG</td>\n",
       "      <td>RDM</td>\n",
       "      <td>Eugene, OR</td>\n",
       "      <td>Bend, OR</td>\n",
       "      <td>41</td>\n",
       "      <td>396</td>\n",
       "      <td>22</td>\n",
       "      <td>103</td>\n",
       "      <td>1990-11-01</td>\n",
       "      <td>284093</td>\n",
       "      <td>76034</td>\n",
       "      <td>44.124599</td>\n",
       "      <td>-123.211998</td>\n",
       "      <td>44.254101</td>\n",
       "      <td>-121.150002</td>\n",
       "    </tr>\n",
       "    <tr>\n",
       "      <th>2</th>\n",
       "      <td>EUG</td>\n",
       "      <td>RDM</td>\n",
       "      <td>Eugene, OR</td>\n",
       "      <td>Bend, OR</td>\n",
       "      <td>88</td>\n",
       "      <td>342</td>\n",
       "      <td>19</td>\n",
       "      <td>103</td>\n",
       "      <td>1990-12-01</td>\n",
       "      <td>284093</td>\n",
       "      <td>76034</td>\n",
       "      <td>44.124599</td>\n",
       "      <td>-123.211998</td>\n",
       "      <td>44.254101</td>\n",
       "      <td>-121.150002</td>\n",
       "    </tr>\n",
       "    <tr>\n",
       "      <th>3</th>\n",
       "      <td>EUG</td>\n",
       "      <td>RDM</td>\n",
       "      <td>Eugene, OR</td>\n",
       "      <td>Bend, OR</td>\n",
       "      <td>11</td>\n",
       "      <td>72</td>\n",
       "      <td>4</td>\n",
       "      <td>103</td>\n",
       "      <td>1990-10-01</td>\n",
       "      <td>284093</td>\n",
       "      <td>76034</td>\n",
       "      <td>44.124599</td>\n",
       "      <td>-123.211998</td>\n",
       "      <td>44.254101</td>\n",
       "      <td>-121.150002</td>\n",
       "    </tr>\n",
       "    <tr>\n",
       "      <th>4</th>\n",
       "      <td>MFR</td>\n",
       "      <td>RDM</td>\n",
       "      <td>Medford, OR</td>\n",
       "      <td>Bend, OR</td>\n",
       "      <td>0</td>\n",
       "      <td>18</td>\n",
       "      <td>1</td>\n",
       "      <td>156</td>\n",
       "      <td>1990-02-01</td>\n",
       "      <td>147300</td>\n",
       "      <td>76034</td>\n",
       "      <td>42.374199</td>\n",
       "      <td>-122.873001</td>\n",
       "      <td>44.254101</td>\n",
       "      <td>-121.150002</td>\n",
       "    </tr>\n",
       "  </tbody>\n",
       "</table>\n",
       "</div>"
      ],
      "text/plain": [
       "  Origin_airport Destination_airport    Origin_city Destination_city  \\\n",
       "0            MHK                 AMW  Manhattan, KS         Ames, IA   \n",
       "1            EUG                 RDM     Eugene, OR         Bend, OR   \n",
       "2            EUG                 RDM     Eugene, OR         Bend, OR   \n",
       "3            EUG                 RDM     Eugene, OR         Bend, OR   \n",
       "4            MFR                 RDM    Medford, OR         Bend, OR   \n",
       "\n",
       "   Passengers  Seats  Flights  Distance    Fly_date  Origin_population  \\\n",
       "0          21     30        1       254  2008-10-01             122049   \n",
       "1          41    396       22       103  1990-11-01             284093   \n",
       "2          88    342       19       103  1990-12-01             284093   \n",
       "3          11     72        4       103  1990-10-01             284093   \n",
       "4           0     18        1       156  1990-02-01             147300   \n",
       "\n",
       "   Destination_population  Org_airport_lat  Org_airport_long  \\\n",
       "0                   86219        39.140999        -96.670799   \n",
       "1                   76034        44.124599       -123.211998   \n",
       "2                   76034        44.124599       -123.211998   \n",
       "3                   76034        44.124599       -123.211998   \n",
       "4                   76034        42.374199       -122.873001   \n",
       "\n",
       "   Dest_airport_lat  Dest_airport_long  \n",
       "0               NaN                NaN  \n",
       "1         44.254101        -121.150002  \n",
       "2         44.254101        -121.150002  \n",
       "3         44.254101        -121.150002  \n",
       "4         44.254101        -121.150002  "
      ]
     },
     "execution_count": 4,
     "metadata": {},
     "output_type": "execute_result"
    }
   ],
   "source": [
    "data = pd.read_csv(\"Airports2.csv\")\n",
    "print(data.shape)\n",
    "data.head()"
   ]
  },
  {
   "cell_type": "code",
   "execution_count": 5,
   "id": "3ddcdb53",
   "metadata": {},
   "outputs": [],
   "source": [
    "data[\"Fly_year\"] = data[\"Fly_date\"].apply(lambda x: x[:4])"
   ]
  },
  {
   "cell_type": "code",
   "execution_count": 32,
   "id": "9abe2a8c",
   "metadata": {},
   "outputs": [],
   "source": [
    "#Filtering for the nodes covered and aggregating data on a yearly basis\n",
    "temp = data.groupby(['Origin_airport','Destination_airport','Fly_year']).agg({'Distance':'mean'}).reset_index()\n",
    "temp = temp[temp.Distance > 0]\n"
   ]
  },
  {
   "cell_type": "markdown",
   "id": "548e6337",
   "metadata": {},
   "source": [
    "# Create Graph"
   ]
  },
  {
   "cell_type": "code",
   "execution_count": 33,
   "id": "ebf36170",
   "metadata": {},
   "outputs": [],
   "source": [
    "def get_directed_graph_for_year(df, year):\n",
    "    tem = temp[temp[\"Fly_year\"] == year][\n",
    "        [\"Origin_airport\", \"Destination_airport\", \"Distance\"]\n",
    "    ].drop_duplicates(subset=[\"Origin_airport\", \"Destination_airport\"])\n",
    "    tem = tem.dropna()\n",
    "    # use networkx DiGraph to create directed graph\n",
    "    airport_graph = nx.from_pandas_edgelist(tem,\n",
    "                                            source=\"Origin_airport\",\n",
    "                                            target=\"Destination_airport\",\n",
    "                                            edge_attr=\"Distance\",\n",
    "                                            create_using=nx.DiGraph)\n",
    "    return airport_graph\n"
   ]
  },
  {
   "cell_type": "markdown",
   "id": "c193d0b7",
   "metadata": {},
   "source": [
    "# Linear Programming"
   ]
  },
  {
   "cell_type": "markdown",
   "id": "ead245c3",
   "metadata": {},
   "source": [
    "## Minimum Number Of Hubs"
   ]
  },
  {
   "cell_type": "code",
   "execution_count": 9,
   "id": "ac7285a1",
   "metadata": {},
   "outputs": [],
   "source": [
    "from pulp import *"
   ]
  },
  {
   "cell_type": "code",
   "execution_count": 34,
   "id": "0fab3f9c",
   "metadata": {},
   "outputs": [],
   "source": [
    "#Using PuLP to find the minimum vertex cover function for the airports served year on year\n",
    "\n",
    "def min_hubs(G):\n",
    "    \"\"\"\n",
    "    G: directed graph\n",
    "    \"\"\"\n",
    "    possible_nodes = [c for c in G.nodes()]\n",
    "\n",
    "    # create a binary variable to represent each node in the graph\n",
    "    x = LpVariable.dicts(\n",
    "        \"Airport\", possible_nodes, lowBound=0, upBound=1, cat=LpInteger\n",
    "    )\n",
    "\n",
    "    # define binary integer programming problem\n",
    "    min_hubs_prob = LpProblem(\"Minimum_Airports\", LpMinimize)\n",
    "\n",
    "    # define objective function\n",
    "    min_hubs_prob += lpSum([x[node] for node in possible_nodes])\n",
    "\n",
    "    for a, b in G.edges:\n",
    "        min_hubs_prob += (\n",
    "            x[a] + x[b] >= 1, f\"Include_Airports_{a}_{b}\"\n",
    "        )\n",
    "\n",
    "    # solve the problem\n",
    "    min_hubs_prob.solve(PULP_CBC_CMD(msg=0))\n",
    "\n",
    "    min_hub_size = 0\n",
    "    for v in min_hubs_prob.variables():\n",
    "        min_hub_size += v.varValue\n",
    "\n",
    "    return min_hub_size\n"
   ]
  },
  {
   "cell_type": "markdown",
   "id": "24d05156",
   "metadata": {},
   "source": [
    "# Analyse"
   ]
  },
  {
   "cell_type": "code",
   "execution_count": 35,
   "id": "9ce59c4c",
   "metadata": {},
   "outputs": [],
   "source": [
    "#Sorting the data year wise\n",
    "\n",
    "years = temp[\"Fly_year\"].unique()\n",
    "years.sort()"
   ]
  },
  {
   "cell_type": "code",
   "execution_count": 39,
   "id": "6c64c288",
   "metadata": {},
   "outputs": [],
   "source": [
    "min_hubs_result = {}\n",
    "for y in years:\n",
    "    G = get_directed_graph_for_year(temp, y)\n",
    "    result = min_hubs(G)\n",
    "    min_hubs_result[y] = result\n"
   ]
  },
  {
   "cell_type": "code",
   "execution_count": 51,
   "id": "44a81d27",
   "metadata": {},
   "outputs": [
    {
     "data": {
      "image/png": "[encoded data removed]",
      "text/plain": [
       "<Figure size 1080x576 with 1 Axes>"
      ]
     },
     "metadata": {
      "needs_background": "light"
     },
     "output_type": "display_data"
    }
   ],
   "source": [
    "keys = list(min_hubs_result.keys())\n",
    "values = list(min_hubs_result.values())\n",
    "\n",
    "#moving average\n",
    "window = 4\n",
    "\n",
    "average = []\n",
    "\n",
    "for ind in range(len(min_hubs_result) - window + 1):\n",
    "    average.append(np.mean(values[ind:ind+window]))\n",
    "\n",
    "for ind in range(window - 1):\n",
    "    average.insert(0, np.nan)    \n",
    "    \n",
    "plt.figure(figsize=(15,8))\n",
    "plt.bar(range(len(min_hubs_result)), values, tick_label=names) #Vertex Cover Plot\n",
    "plt.plot(average,'r.-', label='Running average') #Running Average Line\n",
    "plt.ylabel('#Airports')\n",
    "plt.xlabel('Years')\n",
    "plt.title(\"Total Airport Coverage\")\n",
    "plt.xticks(rotation=90)\n",
    "plt.legend()\n",
    "plt.show()\n"
   ]
  }
 ],
 "metadata": {
  "kernelspec": {
   "display_name": "Python 3 (ipykernel)",
   "language": "python",
   "name": "python3"
  },
  "language_info": {
   "codemirror_mode": {
    "name": "ipython",
    "version": 3
   },
   "file_extension": ".py",
   "mimetype": "text/x-python",
   "name": "python",
   "nbconvert_exporter": "python",
   "pygments_lexer": "ipython3",
   "version": "3.9.7"
  },
  "toc": {
   "base_numbering": 1,
   "nav_menu": {},
   "number_sections": true,
   "sideBar": true,
   "skip_h1_title": false,
   "title_cell": "Table of Contents",
   "title_sidebar": "Contents",
   "toc_cell": false,
   "toc_position": {
    "height": "calc(100% - 180px)",
    "left": "10px",
    "top": "150px",
    "width": "232px"
   },
   "toc_section_display": true,
   "toc_window_display": true
  }
 },
 "nbformat": 4,
 "nbformat_minor": 5
}
